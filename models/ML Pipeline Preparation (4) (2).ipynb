{
 "cells": [
  {
   "cell_type": "markdown",
   "metadata": {},
   "source": [
    "# ML Pipeline Preparation\n",
    "Follow the instructions below to help you create your ML pipeline.\n",
    "### 1. Import libraries and load data from database.\n",
    "- Import Python libraries\n",
    "- Load dataset from database with [`read_sql_table`](https://pandas.pydata.org/pandas-docs/stable/generated/pandas.read_sql_table.html)\n",
    "- Define feature and target variables X and Y"
   ]
  },
  {
   "cell_type": "code",
   "execution_count": 6,
   "metadata": {},
   "outputs": [
    {
     "name": "stderr",
     "output_type": "stream",
     "text": [
      "[nltk_data] Downloading package punkt to\n",
      "[nltk_data]     C:\\Users\\omdhk.test\\AppData\\Roaming\\nltk_data...\n",
      "[nltk_data]   Package punkt is already up-to-date!\n",
      "[nltk_data] Downloading package wordnet to\n",
      "[nltk_data]     C:\\Users\\omdhk.test\\AppData\\Roaming\\nltk_data...\n",
      "[nltk_data]   Package wordnet is already up-to-date!\n",
      "[nltk_data] Downloading package stopwords to\n",
      "[nltk_data]     C:\\Users\\omdhk.test\\AppData\\Roaming\\nltk_data...\n",
      "[nltk_data]   Package stopwords is already up-to-date!\n"
     ]
    }
   ],
   "source": [
    "# import libraries\n",
    "import os\n",
    "import re\n",
    "import pandas as pd\n",
    "from sqlalchemy import create_engine\n",
    "import matplotlib.pyplot as plt\n",
    "%matplotlib inline\n",
    "\n",
    "import nltk\n",
    "from nltk.corpus import stopwords\n",
    "from nltk.tokenize import word_tokenize\n",
    "from nltk.stem import WordNetLemmatizer\n",
    "from nltk.stem import PorterStemmer\n",
    "nltk.download(['punkt', 'wordnet', 'stopwords'])\n",
    "\n",
    "from sklearn.model_selection import train_test_split\n",
    "from sklearn.pipeline import Pipeline, FeatureUnion\n",
    "from sklearn.model_selection import GridSearchCV\n",
    "from sklearn.ensemble import RandomForestClassifier\n",
    "from sklearn.tree import DecisionTreeClassifier\n",
    "from sklearn.neighbors import KNeighborsClassifier\n",
    "from sklearn.multioutput import MultiOutputClassifier\n",
    "from sklearn.feature_extraction.text import CountVectorizer, TfidfTransformer\n",
    "from sklearn.base import BaseEstimator, TransformerMixin\n",
    "from sklearn.metrics import classification_report\n",
    "\n",
    "import pickle\n",
    "import warnings\n",
    "warnings.filterwarnings('ignore')"
   ]
  },
  {
   "cell_type": "code",
   "execution_count": 7,
   "metadata": {},
   "outputs": [],
   "source": [
    "# load data from database\n",
    "engine = create_engine('sqlite:///project2.db')\n",
    "df = pd.read_sql_table( 'disaster_',con=engine)\n",
    "\n",
    "X = df['message']\n",
    "y = df.drop(columns=['id', 'message', 'original', 'genre'], axis=1)\n",
    "\n"
   ]
  },
  {
   "cell_type": "markdown",
   "metadata": {},
   "source": [
    "### 2. Write a tokenization function to process your text data"
   ]
  },
  {
   "cell_type": "code",
   "execution_count": 8,
   "metadata": {},
   "outputs": [],
   "source": [
    "\n",
    "def tokenize(text):\n",
    "    # check if there are urls within the text\n",
    "    url_regex = 'http[s]?://(?:[a-zA-Z]|[0-9]|[$-_@.&+]|[!*\\(\\),]|(?:%[0-9a-fA-F][0-9a-fA-F]))+'\n",
    "    detected_urls = re.findall(url_regex,text)\n",
    "    for url in detected_urls:\n",
    "        text = text.replace(url,\"urlplaceholder\")\n",
    "    \n",
    "    # remove punctuation\n",
    "    text = re.sub(r\"[^a-zA-Z0-9]\",\" \",text)\n",
    "    \n",
    "    # tokenize the text\n",
    "    tokens = word_tokenize(text)\n",
    "    \n",
    "    # remove stop words\n",
    "    tokens = [tok for tok in tokens if tok not in stopwords.words(\"english\")]\n",
    "    \n",
    "    # lemmatization\n",
    "    lemmatizer = WordNetLemmatizer()\n",
    "    \n",
    "    clean_tokens = []\n",
    "    for tok in tokens:\n",
    "        clean_tok = lemmatizer.lemmatize(tok).lower().strip()\n",
    "        clean_tokens.append(clean_tok)\n",
    "        \n",
    "    return clean_tokens"
   ]
  },
  {
   "cell_type": "markdown",
   "metadata": {},
   "source": [
    "### 3. Build a machine learning pipeline\n",
    "This machine pipeline should take in the `message` column as input and output classification results on the other 36 categories in the dataset. You may find the [MultiOutputClassifier](http://scikit-learn.org/stable/modules/generated/sklearn.multioutput.MultiOutputClassifier.html) helpful for predicting multiple target variables."
   ]
  },
  {
   "cell_type": "code",
   "execution_count": 19,
   "metadata": {},
   "outputs": [],
   "source": [
    "# create a pipeline: a count vectorizer, a tfid transformer and a classifier\n",
    "from functools import partial\n",
    "rfc_pipe = Pipeline([\n",
    "        ('vect', CountVectorizer(tokenizer=partial(tokenize))),\n",
    "        ('tfidf', TfidfTransformer()),\n",
    "        ('clf', MultiOutputClassifier(RandomForestClassifier())),\n",
    "    ])\n"
   ]
  },
  {
   "cell_type": "code",
   "execution_count": 20,
   "metadata": {},
   "outputs": [
    {
     "data": {
      "text/plain": [
       "{'memory': None,\n",
       " 'steps': [('vect',\n",
       "   CountVectorizer(tokenizer=functools.partial(<function tokenize at 0x00000291CE7B50D0>))),\n",
       "  ('tfidf', TfidfTransformer()),\n",
       "  ('clf', MultiOutputClassifier(estimator=RandomForestClassifier()))],\n",
       " 'verbose': False,\n",
       " 'vect': CountVectorizer(tokenizer=functools.partial(<function tokenize at 0x00000291CE7B50D0>)),\n",
       " 'tfidf': TfidfTransformer(),\n",
       " 'clf': MultiOutputClassifier(estimator=RandomForestClassifier()),\n",
       " 'vect__analyzer': 'word',\n",
       " 'vect__binary': False,\n",
       " 'vect__decode_error': 'strict',\n",
       " 'vect__dtype': numpy.int64,\n",
       " 'vect__encoding': 'utf-8',\n",
       " 'vect__input': 'content',\n",
       " 'vect__lowercase': True,\n",
       " 'vect__max_df': 1.0,\n",
       " 'vect__max_features': None,\n",
       " 'vect__min_df': 1,\n",
       " 'vect__ngram_range': (1, 1),\n",
       " 'vect__preprocessor': None,\n",
       " 'vect__stop_words': None,\n",
       " 'vect__strip_accents': None,\n",
       " 'vect__token_pattern': '(?u)\\\\b\\\\w\\\\w+\\\\b',\n",
       " 'vect__tokenizer': functools.partial(<function tokenize at 0x00000291CE7B50D0>),\n",
       " 'vect__vocabulary': None,\n",
       " 'tfidf__norm': 'l2',\n",
       " 'tfidf__smooth_idf': True,\n",
       " 'tfidf__sublinear_tf': False,\n",
       " 'tfidf__use_idf': True,\n",
       " 'clf__estimator__bootstrap': True,\n",
       " 'clf__estimator__ccp_alpha': 0.0,\n",
       " 'clf__estimator__class_weight': None,\n",
       " 'clf__estimator__criterion': 'gini',\n",
       " 'clf__estimator__max_depth': None,\n",
       " 'clf__estimator__max_features': 'auto',\n",
       " 'clf__estimator__max_leaf_nodes': None,\n",
       " 'clf__estimator__max_samples': None,\n",
       " 'clf__estimator__min_impurity_decrease': 0.0,\n",
       " 'clf__estimator__min_impurity_split': None,\n",
       " 'clf__estimator__min_samples_leaf': 1,\n",
       " 'clf__estimator__min_samples_split': 2,\n",
       " 'clf__estimator__min_weight_fraction_leaf': 0.0,\n",
       " 'clf__estimator__n_estimators': 100,\n",
       " 'clf__estimator__n_jobs': None,\n",
       " 'clf__estimator__oob_score': False,\n",
       " 'clf__estimator__random_state': None,\n",
       " 'clf__estimator__verbose': 0,\n",
       " 'clf__estimator__warm_start': False,\n",
       " 'clf__estimator': RandomForestClassifier(),\n",
       " 'clf__n_jobs': None}"
      ]
     },
     "execution_count": 20,
     "metadata": {},
     "output_type": "execute_result"
    }
   ],
   "source": [
    "rfc_pipe.get_params()\n"
   ]
  },
  {
   "cell_type": "markdown",
   "metadata": {},
   "source": [
    "### 4. Train pipeline\n",
    "- Split data into train and test sets\n",
    "- Train pipeline"
   ]
  },
  {
   "cell_type": "code",
   "execution_count": 21,
   "metadata": {},
   "outputs": [
    {
     "data": {
      "text/plain": [
       "Pipeline(steps=[('vect',\n",
       "                 CountVectorizer(tokenizer=functools.partial(<function tokenize at 0x00000291CE7B50D0>))),\n",
       "                ('tfidf', TfidfTransformer()),\n",
       "                ('clf',\n",
       "                 MultiOutputClassifier(estimator=RandomForestClassifier()))])"
      ]
     },
     "execution_count": 21,
     "metadata": {},
     "output_type": "execute_result"
    }
   ],
   "source": [
    "\n",
    "# train test split\n",
    "X_train, X_test, y_train, y_test = train_test_split(X, y, test_size=0.25)\n",
    "\n",
    "# train the pipeline\n",
    "rfc_pipe.fit(X_train,y_train)"
   ]
  },
  {
   "cell_type": "code",
   "execution_count": 22,
   "metadata": {},
   "outputs": [
    {
     "data": {
      "text/html": [
       "<div>\n",
       "<style scoped>\n",
       "    .dataframe tbody tr th:only-of-type {\n",
       "        vertical-align: middle;\n",
       "    }\n",
       "\n",
       "    .dataframe tbody tr th {\n",
       "        vertical-align: top;\n",
       "    }\n",
       "\n",
       "    .dataframe thead th {\n",
       "        text-align: right;\n",
       "    }\n",
       "</style>\n",
       "<table border=\"1\" class=\"dataframe\">\n",
       "  <thead>\n",
       "    <tr style=\"text-align: right;\">\n",
       "      <th></th>\n",
       "      <th>related</th>\n",
       "      <th>request</th>\n",
       "      <th>offer</th>\n",
       "      <th>aid_related</th>\n",
       "      <th>medical_help</th>\n",
       "      <th>medical_products</th>\n",
       "      <th>search_and_rescue</th>\n",
       "      <th>security</th>\n",
       "      <th>military</th>\n",
       "      <th>child_alone</th>\n",
       "      <th>...</th>\n",
       "      <th>aid_centers</th>\n",
       "      <th>other_infrastructure</th>\n",
       "      <th>weather_related</th>\n",
       "      <th>floods</th>\n",
       "      <th>storm</th>\n",
       "      <th>fire</th>\n",
       "      <th>earthquake</th>\n",
       "      <th>cold</th>\n",
       "      <th>other_weather</th>\n",
       "      <th>direct_report</th>\n",
       "    </tr>\n",
       "  </thead>\n",
       "  <tbody>\n",
       "    <tr>\n",
       "      <th>11724</th>\n",
       "      <td>1</td>\n",
       "      <td>0</td>\n",
       "      <td>0</td>\n",
       "      <td>0</td>\n",
       "      <td>0</td>\n",
       "      <td>0</td>\n",
       "      <td>0</td>\n",
       "      <td>0</td>\n",
       "      <td>0</td>\n",
       "      <td>0</td>\n",
       "      <td>...</td>\n",
       "      <td>0</td>\n",
       "      <td>0</td>\n",
       "      <td>1</td>\n",
       "      <td>0</td>\n",
       "      <td>0</td>\n",
       "      <td>0</td>\n",
       "      <td>1</td>\n",
       "      <td>0</td>\n",
       "      <td>0</td>\n",
       "      <td>0</td>\n",
       "    </tr>\n",
       "    <tr>\n",
       "      <th>10180</th>\n",
       "      <td>1</td>\n",
       "      <td>0</td>\n",
       "      <td>0</td>\n",
       "      <td>1</td>\n",
       "      <td>0</td>\n",
       "      <td>0</td>\n",
       "      <td>0</td>\n",
       "      <td>0</td>\n",
       "      <td>0</td>\n",
       "      <td>0</td>\n",
       "      <td>...</td>\n",
       "      <td>0</td>\n",
       "      <td>0</td>\n",
       "      <td>1</td>\n",
       "      <td>0</td>\n",
       "      <td>0</td>\n",
       "      <td>0</td>\n",
       "      <td>1</td>\n",
       "      <td>0</td>\n",
       "      <td>0</td>\n",
       "      <td>0</td>\n",
       "    </tr>\n",
       "    <tr>\n",
       "      <th>3756</th>\n",
       "      <td>1</td>\n",
       "      <td>0</td>\n",
       "      <td>0</td>\n",
       "      <td>1</td>\n",
       "      <td>0</td>\n",
       "      <td>1</td>\n",
       "      <td>0</td>\n",
       "      <td>0</td>\n",
       "      <td>0</td>\n",
       "      <td>0</td>\n",
       "      <td>...</td>\n",
       "      <td>0</td>\n",
       "      <td>1</td>\n",
       "      <td>0</td>\n",
       "      <td>0</td>\n",
       "      <td>0</td>\n",
       "      <td>0</td>\n",
       "      <td>0</td>\n",
       "      <td>0</td>\n",
       "      <td>0</td>\n",
       "      <td>0</td>\n",
       "    </tr>\n",
       "    <tr>\n",
       "      <th>22423</th>\n",
       "      <td>1</td>\n",
       "      <td>0</td>\n",
       "      <td>0</td>\n",
       "      <td>0</td>\n",
       "      <td>0</td>\n",
       "      <td>0</td>\n",
       "      <td>0</td>\n",
       "      <td>0</td>\n",
       "      <td>0</td>\n",
       "      <td>0</td>\n",
       "      <td>...</td>\n",
       "      <td>0</td>\n",
       "      <td>0</td>\n",
       "      <td>0</td>\n",
       "      <td>0</td>\n",
       "      <td>0</td>\n",
       "      <td>0</td>\n",
       "      <td>0</td>\n",
       "      <td>0</td>\n",
       "      <td>0</td>\n",
       "      <td>0</td>\n",
       "    </tr>\n",
       "    <tr>\n",
       "      <th>1908</th>\n",
       "      <td>1</td>\n",
       "      <td>1</td>\n",
       "      <td>0</td>\n",
       "      <td>1</td>\n",
       "      <td>1</td>\n",
       "      <td>0</td>\n",
       "      <td>0</td>\n",
       "      <td>0</td>\n",
       "      <td>0</td>\n",
       "      <td>0</td>\n",
       "      <td>...</td>\n",
       "      <td>0</td>\n",
       "      <td>0</td>\n",
       "      <td>1</td>\n",
       "      <td>1</td>\n",
       "      <td>0</td>\n",
       "      <td>0</td>\n",
       "      <td>0</td>\n",
       "      <td>0</td>\n",
       "      <td>0</td>\n",
       "      <td>1</td>\n",
       "    </tr>\n",
       "  </tbody>\n",
       "</table>\n",
       "<p>5 rows × 36 columns</p>\n",
       "</div>"
      ],
      "text/plain": [
       "       related  request  offer  aid_related  medical_help  medical_products  \\\n",
       "11724        1        0      0            0             0                 0   \n",
       "10180        1        0      0            1             0                 0   \n",
       "3756         1        0      0            1             0                 1   \n",
       "22423        1        0      0            0             0                 0   \n",
       "1908         1        1      0            1             1                 0   \n",
       "\n",
       "       search_and_rescue  security  military  child_alone  ...  aid_centers  \\\n",
       "11724                  0         0         0            0  ...            0   \n",
       "10180                  0         0         0            0  ...            0   \n",
       "3756                   0         0         0            0  ...            0   \n",
       "22423                  0         0         0            0  ...            0   \n",
       "1908                   0         0         0            0  ...            0   \n",
       "\n",
       "       other_infrastructure  weather_related  floods  storm  fire  earthquake  \\\n",
       "11724                     0                1       0      0     0           1   \n",
       "10180                     0                1       0      0     0           1   \n",
       "3756                      1                0       0      0     0           0   \n",
       "22423                     0                0       0      0     0           0   \n",
       "1908                      0                1       1      0     0           0   \n",
       "\n",
       "       cold  other_weather  direct_report  \n",
       "11724     0              0              0  \n",
       "10180     0              0              0  \n",
       "3756      0              0              0  \n",
       "22423     0              0              0  \n",
       "1908      0              0              1  \n",
       "\n",
       "[5 rows x 36 columns]"
      ]
     },
     "execution_count": 22,
     "metadata": {},
     "output_type": "execute_result"
    }
   ],
   "source": [
    "y_test.head()"
   ]
  },
  {
   "cell_type": "code",
   "execution_count": 23,
   "metadata": {},
   "outputs": [
    {
     "data": {
      "text/plain": [
       "0    Weather update - a cold front from Cuba that c...\n",
       "1              Is the Hurricane over or is it not over\n",
       "2                      Looking for someone but no name\n",
       "3    UN reports Leogane 80-90 destroyed. Only Hospi...\n",
       "4    says: west side of Haiti, rest of the country ...\n",
       "Name: message, dtype: object"
      ]
     },
     "execution_count": 23,
     "metadata": {},
     "output_type": "execute_result"
    }
   ],
   "source": [
    "X.head()"
   ]
  },
  {
   "cell_type": "markdown",
   "metadata": {},
   "source": [
    "### 5. Test your model\n",
    "Report the f1 score, precision and recall for each output category of the dataset. You can do this by iterating through the columns and calling sklearn's `classification_report` on each."
   ]
  },
  {
   "cell_type": "code",
   "execution_count": 24,
   "metadata": {},
   "outputs": [],
   "source": [
    "# predict on train set\n",
    "y_rfc_trainpred = rfc_pipe.predict(X_train)"
   ]
  },
  {
   "cell_type": "code",
   "execution_count": 25,
   "metadata": {},
   "outputs": [
    {
     "name": "stdout",
     "output_type": "stream",
     "text": [
      "                        precision    recall  f1-score   support\n",
      "\n",
      "               related       1.00      1.00      1.00     15002\n",
      "               request       1.00      0.99      1.00      3362\n",
      "                 offer       1.00      0.97      0.98        89\n",
      "           aid_related       1.00      1.00      1.00      8150\n",
      "          medical_help       1.00      1.00      1.00      1594\n",
      "      medical_products       1.00      1.00      1.00       989\n",
      "     search_and_rescue       1.00      1.00      1.00       536\n",
      "              security       1.00      0.98      0.99       366\n",
      "              military       1.00      1.00      1.00       665\n",
      "           child_alone       0.00      0.00      0.00         0\n",
      "                 water       1.00      1.00      1.00      1240\n",
      "                  food       1.00      1.00      1.00      2167\n",
      "               shelter       1.00      1.00      1.00      1709\n",
      "              clothing       1.00      1.00      1.00       297\n",
      "                 money       1.00      1.00      1.00       457\n",
      "        missing_people       1.00      1.00      1.00       217\n",
      "              refugees       1.00      1.00      1.00       659\n",
      "                 death       1.00      1.00      1.00       894\n",
      "             other_aid       1.00      0.99      1.00      2586\n",
      "infrastructure_related       1.00      1.00      1.00      1283\n",
      "             transport       1.00      1.00      1.00       881\n",
      "             buildings       1.00      1.00      1.00       995\n",
      "           electricity       1.00      1.00      1.00       384\n",
      "                 tools       1.00      1.00      1.00       115\n",
      "             hospitals       1.00      1.00      1.00       221\n",
      "                 shops       1.00      1.00      1.00        91\n",
      "           aid_centers       1.00      0.99      1.00       233\n",
      "  other_infrastructure       1.00      1.00      1.00       864\n",
      "       weather_related       1.00      1.00      1.00      5413\n",
      "                floods       1.00      1.00      1.00      1626\n",
      "                 storm       1.00      1.00      1.00      1784\n",
      "                  fire       1.00      1.00      1.00       209\n",
      "            earthquake       1.00      1.00      1.00      1839\n",
      "                  cold       1.00      0.99      1.00       387\n",
      "         other_weather       1.00      1.00      1.00      1020\n",
      "         direct_report       1.00      1.00      1.00      3751\n",
      "\n",
      "             micro avg       1.00      1.00      1.00     62075\n",
      "             macro avg       0.97      0.97      0.97     62075\n",
      "          weighted avg       1.00      1.00      1.00     62075\n",
      "           samples avg       0.76      0.76      0.76     62075\n",
      "\n"
     ]
    }
   ],
   "source": [
    "# classification report on train set\n",
    "print(classification_report(y_train.values, y_rfc_trainpred, target_names=y.columns.values))"
   ]
  },
  {
   "cell_type": "code",
   "execution_count": 26,
   "metadata": {},
   "outputs": [
    {
     "name": "stdout",
     "output_type": "stream",
     "text": [
      "related                   0.998169\n",
      "request                   0.999084\n",
      "offer                     0.999847\n",
      "aid_related               0.998932\n",
      "medical_help              0.999695\n",
      "medical_products          0.999847\n",
      "search_and_rescue         0.999898\n",
      "security                  0.999695\n",
      "military                  0.999797\n",
      "child_alone               1.000000\n",
      "water                     0.999949\n",
      "food                      0.999949\n",
      "shelter                   0.999949\n",
      "clothing                  1.000000\n",
      "money                     0.999949\n",
      "missing_people            1.000000\n",
      "refugees                  0.999847\n",
      "death                     0.999898\n",
      "other_aid                 0.998983\n",
      "infrastructure_related    0.999746\n",
      "transport                 0.999797\n",
      "buildings                 0.999847\n",
      "electricity               1.000000\n",
      "tools                     1.000000\n",
      "hospitals                 0.999949\n",
      "shops                     1.000000\n",
      "aid_centers               0.999898\n",
      "other_infrastructure      0.999797\n",
      "weather_related           0.999593\n",
      "floods                    0.999644\n",
      "storm                     0.999695\n",
      "fire                      1.000000\n",
      "earthquake                0.999797\n",
      "cold                      0.999847\n",
      "other_weather             0.999746\n",
      "direct_report             0.999186\n",
      "dtype: float64\n"
     ]
    }
   ],
   "source": [
    "# Model accuracy score on train set\n",
    "rfc_train_accuracy = (y_rfc_trainpred == y_train).mean()\n",
    "print(rfc_train_accuracy)"
   ]
  },
  {
   "cell_type": "code",
   "execution_count": 27,
   "metadata": {},
   "outputs": [],
   "source": [
    "# predict on test set\n",
    "y_rfc_testpred = rfc_pipe.predict(X_test)"
   ]
  },
  {
   "cell_type": "code",
   "execution_count": 28,
   "metadata": {},
   "outputs": [
    {
     "name": "stdout",
     "output_type": "stream",
     "text": [
      "                        precision    recall  f1-score   support\n",
      "\n",
      "               related       0.85      0.95      0.90      5091\n",
      "               request       0.83      0.51      0.63      1112\n",
      "                 offer       0.00      0.00      0.00        29\n",
      "           aid_related       0.75      0.70      0.72      2710\n",
      "          medical_help       0.69      0.09      0.16       490\n",
      "      medical_products       0.79      0.10      0.19       324\n",
      "     search_and_rescue       1.00      0.02      0.03       188\n",
      "              security       0.00      0.00      0.00       105\n",
      "              military       0.56      0.05      0.09       195\n",
      "           child_alone       0.00      0.00      0.00         0\n",
      "                 water       0.90      0.35      0.50       432\n",
      "                  food       0.84      0.60      0.70       756\n",
      "               shelter       0.85      0.37      0.51       605\n",
      "              clothing       0.93      0.12      0.21       108\n",
      "                 money       0.67      0.03      0.05       147\n",
      "        missing_people       1.00      0.01      0.02        81\n",
      "              refugees       0.50      0.04      0.07       216\n",
      "                 death       0.81      0.14      0.24       300\n",
      "             other_aid       0.71      0.04      0.08       860\n",
      "infrastructure_related       0.18      0.00      0.01       422\n",
      "             transport       0.84      0.08      0.15       320\n",
      "             buildings       0.75      0.17      0.27       338\n",
      "           electricity       1.00      0.03      0.07       148\n",
      "                 tools       0.00      0.00      0.00        44\n",
      "             hospitals       0.00      0.00      0.00        62\n",
      "                 shops       0.00      0.00      0.00        29\n",
      "           aid_centers       0.00      0.00      0.00        76\n",
      "  other_infrastructure       0.17      0.00      0.01       287\n",
      "       weather_related       0.86      0.70      0.77      1884\n",
      "                floods       0.91      0.46      0.61       529\n",
      "                 storm       0.81      0.54      0.65       659\n",
      "                  fire       0.00      0.00      0.00        73\n",
      "            earthquake       0.88      0.85      0.86       616\n",
      "                  cold       0.78      0.05      0.09       143\n",
      "         other_weather       0.38      0.02      0.04       356\n",
      "         direct_report       0.80      0.37      0.51      1324\n",
      "\n",
      "             micro avg       0.83      0.54      0.65     21059\n",
      "             macro avg       0.58      0.21      0.25     21059\n",
      "          weighted avg       0.77      0.54      0.58     21059\n",
      "           samples avg       0.68      0.49      0.52     21059\n",
      "\n"
     ]
    }
   ],
   "source": [
    "# classification report on test set\n",
    "print(classification_report(y_test.values, y_rfc_testpred, target_names=y.columns.values))\n"
   ]
  },
  {
   "cell_type": "code",
   "execution_count": 29,
   "metadata": {},
   "outputs": [
    {
     "name": "stdout",
     "output_type": "stream",
     "text": [
      "related                   0.834300\n",
      "request                   0.899756\n",
      "offer                     0.995575\n",
      "aid_related               0.779677\n",
      "medical_help              0.928898\n",
      "medical_products          0.954379\n",
      "search_and_rescue         0.971773\n",
      "security                  0.983522\n",
      "military                  0.970552\n",
      "child_alone               1.000000\n",
      "water                     0.954684\n",
      "food                      0.940800\n",
      "shelter                   0.935612\n",
      "clothing                  0.985352\n",
      "money                     0.977876\n",
      "missing_people            0.987794\n",
      "refugees                  0.967043\n",
      "death                     0.959262\n",
      "other_aid                 0.872139\n",
      "infrastructure_related    0.934544\n",
      "transport                 0.954379\n",
      "buildings                 0.954074\n",
      "electricity               0.978181\n",
      "tools                     0.992981\n",
      "hospitals                 0.990540\n",
      "shops                     0.995575\n",
      "aid_centers               0.988404\n",
      "other_infrastructure      0.955600\n",
      "weather_related           0.881752\n",
      "floods                    0.952853\n",
      "storm                     0.941410\n",
      "fire                      0.988862\n",
      "earthquake                0.975130\n",
      "cold                      0.978944\n",
      "other_weather             0.944919\n",
      "direct_report             0.853525\n",
      "dtype: float64\n"
     ]
    }
   ],
   "source": [
    "\n",
    "# Model accuracy score on test test\n",
    "rfc_test_accuracy = (y_rfc_testpred == y_test).mean()\n",
    "print(rfc_test_accuracy)"
   ]
  },
  {
   "cell_type": "markdown",
   "metadata": {},
   "source": [
    "### 6. Improve your model\n",
    "Use grid search to find better parameters. "
   ]
  },
  {
   "cell_type": "code",
   "execution_count": 30,
   "metadata": {},
   "outputs": [],
   "source": [
    "parameters = {'clf__estimator__n_estimators':[100,200],\n",
    "              'clf__estimator__max_depth':[5]}\n",
    "\n",
    "# create grid search object #model=gridsearch\n",
    "grid_rfc = GridSearchCV(rfc_pipe, param_grid=parameters , cv=3, verbose=2)"
   ]
  },
  {
   "cell_type": "code",
   "execution_count": 31,
   "metadata": {},
   "outputs": [
    {
     "name": "stdout",
     "output_type": "stream",
     "text": [
      "Fitting 3 folds for each of 2 candidates, totalling 6 fits\n",
      "[CV] END clf__estimator__max_depth=5, clf__estimator__n_estimators=100; total time= 4.8min\n",
      "[CV] END clf__estimator__max_depth=5, clf__estimator__n_estimators=100; total time= 4.4min\n",
      "[CV] END clf__estimator__max_depth=5, clf__estimator__n_estimators=100; total time= 4.2min\n",
      "[CV] END clf__estimator__max_depth=5, clf__estimator__n_estimators=200; total time= 4.5min\n",
      "[CV] END clf__estimator__max_depth=5, clf__estimator__n_estimators=200; total time= 4.0min\n",
      "[CV] END clf__estimator__max_depth=5, clf__estimator__n_estimators=200; total time= 4.1min\n"
     ]
    },
    {
     "data": {
      "text/plain": [
       "GridSearchCV(cv=3,\n",
       "             estimator=Pipeline(steps=[('vect',\n",
       "                                        CountVectorizer(tokenizer=functools.partial(<function tokenize at 0x00000291CE7B50D0>))),\n",
       "                                       ('tfidf', TfidfTransformer()),\n",
       "                                       ('clf',\n",
       "                                        MultiOutputClassifier(estimator=RandomForestClassifier()))]),\n",
       "             param_grid={'clf__estimator__max_depth': [5],\n",
       "                         'clf__estimator__n_estimators': [100, 200]},\n",
       "             verbose=2)"
      ]
     },
     "execution_count": 31,
     "metadata": {},
     "output_type": "execute_result"
    }
   ],
   "source": [
    "grid_rfc.fit(X_train,y_train)"
   ]
  },
  {
   "cell_type": "code",
   "execution_count": 32,
   "metadata": {},
   "outputs": [
    {
     "data": {
      "text/plain": [
       "{'clf__estimator__max_depth': 5, 'clf__estimator__n_estimators': 100}"
      ]
     },
     "execution_count": 32,
     "metadata": {},
     "output_type": "execute_result"
    }
   ],
   "source": [
    "grid_rfc.best_params_\n"
   ]
  },
  {
   "cell_type": "markdown",
   "metadata": {},
   "source": [
    "### 7. Test your model\n",
    "Show the accuracy, precision, and recall of the tuned model.  \n",
    "\n",
    "Since this project focuses on code quality, process, and  pipelines, there is no minimum performance metric needed to pass. However, make sure to fine tune your models for accuracy, precision and recall to make your project stand out - especially for your portfolio!"
   ]
  },
  {
   "cell_type": "code",
   "execution_count": 33,
   "metadata": {},
   "outputs": [],
   "source": [
    "#test on train set\n",
    "y_grid_rfc_trainpred = grid_rfc.predict(X_train)\n"
   ]
  },
  {
   "cell_type": "code",
   "execution_count": 34,
   "metadata": {},
   "outputs": [
    {
     "name": "stdout",
     "output_type": "stream",
     "text": [
      "Grid rfc Train Scores\n",
      "                        precision    recall  f1-score   support\n",
      "\n",
      "               related       0.76      1.00      0.87     15002\n",
      "               request       0.00      0.00      0.00      3362\n",
      "                 offer       0.00      0.00      0.00        89\n",
      "           aid_related       0.99      0.01      0.02      8150\n",
      "          medical_help       1.00      0.00      0.00      1594\n",
      "      medical_products       0.00      0.00      0.00       989\n",
      "     search_and_rescue       0.00      0.00      0.00       536\n",
      "              security       0.00      0.00      0.00       366\n",
      "              military       0.00      0.00      0.00       665\n",
      "           child_alone       0.00      0.00      0.00         0\n",
      "                 water       1.00      0.00      0.00      1240\n",
      "                  food       0.00      0.00      0.00      2167\n",
      "               shelter       1.00      0.00      0.00      1709\n",
      "              clothing       0.00      0.00      0.00       297\n",
      "                 money       0.00      0.00      0.00       457\n",
      "        missing_people       0.00      0.00      0.00       217\n",
      "              refugees       0.00      0.00      0.00       659\n",
      "                 death       0.00      0.00      0.00       894\n",
      "             other_aid       0.00      0.00      0.00      2586\n",
      "infrastructure_related       1.00      0.00      0.00      1283\n",
      "             transport       0.00      0.00      0.00       881\n",
      "             buildings       0.00      0.00      0.00       995\n",
      "           electricity       0.00      0.00      0.00       384\n",
      "                 tools       0.00      0.00      0.00       115\n",
      "             hospitals       0.00      0.00      0.00       221\n",
      "                 shops       0.00      0.00      0.00        91\n",
      "           aid_centers       0.00      0.00      0.00       233\n",
      "  other_infrastructure       0.00      0.00      0.00       864\n",
      "       weather_related       1.00      0.01      0.01      5413\n",
      "                floods       1.00      0.00      0.01      1626\n",
      "                 storm       1.00      0.00      0.00      1784\n",
      "                  fire       0.00      0.00      0.00       209\n",
      "            earthquake       0.00      0.00      0.00      1839\n",
      "                  cold       0.00      0.00      0.00       387\n",
      "         other_weather       0.00      0.00      0.00      1020\n",
      "         direct_report       0.00      0.00      0.00      3751\n",
      "\n",
      "             micro avg       0.76      0.24      0.37     62075\n",
      "             macro avg       0.24      0.03      0.03     62075\n",
      "          weighted avg       0.55      0.24      0.21     62075\n",
      "           samples avg       0.76      0.33      0.40     62075\n",
      "\n",
      "\n",
      "\n",
      "Grid rfc Accuracy\n",
      "related                   0.763033\n",
      "request                   0.829002\n",
      "offer                     0.995473\n",
      "aid_related               0.588780\n",
      "medical_help              0.918977\n",
      "medical_products          0.949697\n",
      "search_and_rescue         0.972738\n",
      "security                  0.981384\n",
      "military                  0.966177\n",
      "child_alone               1.000000\n",
      "water                     0.936982\n",
      "food                      0.889782\n",
      "shelter                   0.913128\n",
      "clothing                  0.984894\n",
      "money                     0.976756\n",
      "missing_people            0.988963\n",
      "refugees                  0.966482\n",
      "death                     0.954529\n",
      "other_aid                 0.868471\n",
      "infrastructure_related    0.934795\n",
      "transport                 0.955190\n",
      "buildings                 0.949392\n",
      "electricity               0.980469\n",
      "tools                     0.994151\n",
      "hospitals                 0.988759\n",
      "shops                     0.995372\n",
      "aid_centers               0.988149\n",
      "other_infrastructure      0.956055\n",
      "weather_related           0.726108\n",
      "floods                    0.917603\n",
      "storm                     0.909415\n",
      "fire                      0.989370\n",
      "earthquake                0.906465\n",
      "cold                      0.980316\n",
      "other_weather             0.948121\n",
      "direct_report             0.809216\n",
      "dtype: float64\n"
     ]
    }
   ],
   "source": [
    "# classification report on train set\n",
    "print('Grid rfc Train Scores')\n",
    "print(classification_report(y_train.values, y_grid_rfc_trainpred, target_names=y.columns.values))\n",
    "print('\\n')\n",
    "\n",
    "# accuracy score on train set\n",
    "print('Grid rfc Accuracy')\n",
    "grid_rfc_train_accuracy = (y_grid_rfc_trainpred == y_train).mean()\n",
    "print(grid_rfc_train_accuracy)"
   ]
  },
  {
   "cell_type": "code",
   "execution_count": 35,
   "metadata": {},
   "outputs": [],
   "source": [
    "y_grid_rfc_testpred = grid_rfc.predict(X_test)\n"
   ]
  },
  {
   "cell_type": "code",
   "execution_count": 36,
   "metadata": {},
   "outputs": [
    {
     "name": "stdout",
     "output_type": "stream",
     "text": [
      "Grid rfc Test Scores\n",
      "                        precision    recall  f1-score   support\n",
      "\n",
      "               related       0.78      1.00      0.87      5091\n",
      "               request       0.00      0.00      0.00      1112\n",
      "                 offer       0.00      0.00      0.00        29\n",
      "           aid_related       0.94      0.01      0.01      2710\n",
      "          medical_help       0.00      0.00      0.00       490\n",
      "      medical_products       0.00      0.00      0.00       324\n",
      "     search_and_rescue       0.00      0.00      0.00       188\n",
      "              security       0.00      0.00      0.00       105\n",
      "              military       0.00      0.00      0.00       195\n",
      "           child_alone       0.00      0.00      0.00         0\n",
      "                 water       0.00      0.00      0.00       432\n",
      "                  food       0.00      0.00      0.00       756\n",
      "               shelter       0.00      0.00      0.00       605\n",
      "              clothing       0.00      0.00      0.00       108\n",
      "                 money       0.00      0.00      0.00       147\n",
      "        missing_people       0.00      0.00      0.00        81\n",
      "              refugees       0.00      0.00      0.00       216\n",
      "                 death       0.00      0.00      0.00       300\n",
      "             other_aid       0.00      0.00      0.00       860\n",
      "infrastructure_related       0.00      0.00      0.00       422\n",
      "             transport       0.00      0.00      0.00       320\n",
      "             buildings       0.00      0.00      0.00       338\n",
      "           electricity       0.00      0.00      0.00       148\n",
      "                 tools       0.00      0.00      0.00        44\n",
      "             hospitals       0.00      0.00      0.00        62\n",
      "                 shops       0.00      0.00      0.00        29\n",
      "           aid_centers       0.00      0.00      0.00        76\n",
      "  other_infrastructure       0.00      0.00      0.00       287\n",
      "       weather_related       1.00      0.00      0.01      1884\n",
      "                floods       1.00      0.00      0.00       529\n",
      "                 storm       1.00      0.00      0.00       659\n",
      "                  fire       0.00      0.00      0.00        73\n",
      "            earthquake       0.00      0.00      0.00       616\n",
      "                  cold       0.00      0.00      0.00       143\n",
      "         other_weather       0.00      0.00      0.00       356\n",
      "         direct_report       0.00      0.00      0.00      1324\n",
      "\n",
      "             micro avg       0.78      0.24      0.37     21059\n",
      "             macro avg       0.13      0.03      0.02     21059\n",
      "          weighted avg       0.45      0.24      0.21     21059\n",
      "           samples avg       0.78      0.33      0.41     21059\n",
      "\n",
      "\n",
      "\n",
      "Grid tree Accuracy\n",
      "related                   0.776778\n",
      "request                   0.830333\n",
      "offer                     0.995575\n",
      "aid_related               0.588648\n",
      "medical_help              0.925236\n",
      "medical_products          0.950565\n",
      "search_and_rescue         0.971315\n",
      "security                  0.983979\n",
      "military                  0.970247\n",
      "child_alone               1.000000\n",
      "water                     0.934086\n",
      "food                      0.884651\n",
      "shelter                   0.907690\n",
      "clothing                  0.983522\n",
      "money                     0.977571\n",
      "missing_people            0.987641\n",
      "refugees                  0.967043\n",
      "death                     0.954226\n",
      "other_aid                 0.868782\n",
      "infrastructure_related    0.935612\n",
      "transport                 0.951175\n",
      "buildings                 0.948428\n",
      "electricity               0.977418\n",
      "tools                     0.993287\n",
      "hospitals                 0.990540\n",
      "shops                     0.995575\n",
      "aid_centers               0.988404\n",
      "other_infrastructure      0.956210\n",
      "weather_related           0.713305\n",
      "floods                    0.919439\n",
      "storm                     0.899603\n",
      "fire                      0.988862\n",
      "earthquake                0.906012\n",
      "cold                      0.978181\n",
      "other_weather             0.945682\n",
      "direct_report             0.797986\n",
      "dtype: float64\n"
     ]
    }
   ],
   "source": [
    "# classification report on test set\n",
    "print('Grid rfc Test Scores')\n",
    "print(classification_report(y_test.values, y_grid_rfc_testpred, target_names=y.columns.values))\n",
    "print('\\n')\n",
    "\n",
    "# accuracy score on test set\n",
    "print('Grid tree Accuracy')\n",
    "grid_rfc_test_accuracy = (y_grid_rfc_testpred == y_test).mean()\n",
    "print(grid_rfc_test_accuracy)"
   ]
  },
  {
   "cell_type": "code",
   "execution_count": 38,
   "metadata": {},
   "outputs": [
    {
     "data": {
      "text/plain": [
       "related                  -0.057522\n",
       "request                  -0.069423\n",
       "offer                     0.000000\n",
       "aid_related              -0.191028\n",
       "medical_help             -0.003662\n",
       "medical_products         -0.003814\n",
       "search_and_rescue        -0.000458\n",
       "security                  0.000458\n",
       "military                 -0.000305\n",
       "child_alone               0.000000\n",
       "water                    -0.020598\n",
       "food                     -0.056149\n",
       "shelter                  -0.027922\n",
       "clothing                 -0.001831\n",
       "money                    -0.000305\n",
       "missing_people           -0.000153\n",
       "refugees                  0.000000\n",
       "death                    -0.005035\n",
       "other_aid                -0.003357\n",
       "infrastructure_related    0.001068\n",
       "transport                -0.003204\n",
       "buildings                -0.005645\n",
       "electricity              -0.000763\n",
       "tools                     0.000305\n",
       "hospitals                 0.000000\n",
       "shops                     0.000000\n",
       "aid_centers               0.000000\n",
       "other_infrastructure      0.000610\n",
       "weather_related          -0.168447\n",
       "floods                   -0.033415\n",
       "storm                    -0.041807\n",
       "fire                      0.000000\n",
       "earthquake               -0.069118\n",
       "cold                     -0.000763\n",
       "other_weather             0.000763\n",
       "direct_report            -0.055539\n",
       "dtype: float64"
      ]
     },
     "execution_count": 38,
     "metadata": {},
     "output_type": "execute_result"
    }
   ],
   "source": [
    "# compare with rfc without gridsearch tuning\n",
    "grid_rfc_test_accuracy - rfc_test_accuracy"
   ]
  },
  {
   "cell_type": "markdown",
   "metadata": {},
   "source": [
    "### 8. Try improving your model further. Here are a few ideas:\n",
    "* try other machine learning algorithms\n",
    "* add other features besides the TF-IDF"
   ]
  },
  {
   "cell_type": "markdown",
   "metadata": {},
   "source": [
    "#### MODEL 2. KNN"
   ]
  },
  {
   "cell_type": "code",
   "execution_count": 44,
   "metadata": {},
   "outputs": [],
   "source": [
    "  knn_pipeline = Pipeline([\n",
    "        ('vect', CountVectorizer(tokenizer=tokenize)),\n",
    "        ('tfidf', TfidfTransformer()),\n",
    "        ('clf', MultiOutputClassifier(KNeighborsClassifier()))\n",
    "    ])"
   ]
  },
  {
   "cell_type": "code",
   "execution_count": 45,
   "metadata": {},
   "outputs": [
    {
     "data": {
      "text/plain": [
       "{'memory': None,\n",
       " 'steps': [('vect',\n",
       "   CountVectorizer(tokenizer=<function tokenize at 0x00000291CE7B50D0>)),\n",
       "  ('tfidf', TfidfTransformer()),\n",
       "  ('clf', MultiOutputClassifier(estimator=KNeighborsClassifier()))],\n",
       " 'verbose': False,\n",
       " 'vect': CountVectorizer(tokenizer=<function tokenize at 0x00000291CE7B50D0>),\n",
       " 'tfidf': TfidfTransformer(),\n",
       " 'clf': MultiOutputClassifier(estimator=KNeighborsClassifier()),\n",
       " 'vect__analyzer': 'word',\n",
       " 'vect__binary': False,\n",
       " 'vect__decode_error': 'strict',\n",
       " 'vect__dtype': numpy.int64,\n",
       " 'vect__encoding': 'utf-8',\n",
       " 'vect__input': 'content',\n",
       " 'vect__lowercase': True,\n",
       " 'vect__max_df': 1.0,\n",
       " 'vect__max_features': None,\n",
       " 'vect__min_df': 1,\n",
       " 'vect__ngram_range': (1, 1),\n",
       " 'vect__preprocessor': None,\n",
       " 'vect__stop_words': None,\n",
       " 'vect__strip_accents': None,\n",
       " 'vect__token_pattern': '(?u)\\\\b\\\\w\\\\w+\\\\b',\n",
       " 'vect__tokenizer': <function __main__.tokenize(text)>,\n",
       " 'vect__vocabulary': None,\n",
       " 'tfidf__norm': 'l2',\n",
       " 'tfidf__smooth_idf': True,\n",
       " 'tfidf__sublinear_tf': False,\n",
       " 'tfidf__use_idf': True,\n",
       " 'clf__estimator__algorithm': 'auto',\n",
       " 'clf__estimator__leaf_size': 30,\n",
       " 'clf__estimator__metric': 'minkowski',\n",
       " 'clf__estimator__metric_params': None,\n",
       " 'clf__estimator__n_jobs': None,\n",
       " 'clf__estimator__n_neighbors': 5,\n",
       " 'clf__estimator__p': 2,\n",
       " 'clf__estimator__weights': 'uniform',\n",
       " 'clf__estimator': KNeighborsClassifier(),\n",
       " 'clf__n_jobs': None}"
      ]
     },
     "execution_count": 45,
     "metadata": {},
     "output_type": "execute_result"
    }
   ],
   "source": [
    "knn_pipeline.get_params()"
   ]
  },
  {
   "cell_type": "code",
   "execution_count": 46,
   "metadata": {},
   "outputs": [
    {
     "data": {
      "text/plain": [
       "Pipeline(steps=[('vect',\n",
       "                 CountVectorizer(tokenizer=<function tokenize at 0x00000291CE7B50D0>)),\n",
       "                ('tfidf', TfidfTransformer()),\n",
       "                ('clf',\n",
       "                 MultiOutputClassifier(estimator=KNeighborsClassifier()))])"
      ]
     },
     "execution_count": 46,
     "metadata": {},
     "output_type": "execute_result"
    }
   ],
   "source": [
    "# train the pipeline\n",
    "knn_pipeline.fit(X_train,y_train)"
   ]
  },
  {
   "cell_type": "code",
   "execution_count": 47,
   "metadata": {},
   "outputs": [],
   "source": [
    "# predict on train set\n",
    "y_knn_trainpred = knn_pipeline.predict(X_train)"
   ]
  },
  {
   "cell_type": "code",
   "execution_count": 49,
   "metadata": {},
   "outputs": [
    {
     "name": "stdout",
     "output_type": "stream",
     "text": [
      "                        precision    recall  f1-score   support\n",
      "\n",
      "               related       0.83      0.99      0.90     15002\n",
      "               request       0.96      0.38      0.55      3362\n",
      "                 offer       0.00      0.00      0.00        89\n",
      "           aid_related       0.98      0.35      0.52      8150\n",
      "          medical_help       0.98      0.08      0.14      1594\n",
      "      medical_products       0.96      0.11      0.19       989\n",
      "     search_and_rescue       0.97      0.07      0.13       536\n",
      "              security       1.00      0.01      0.02       366\n",
      "              military       1.00      0.09      0.17       665\n",
      "           child_alone       0.00      0.00      0.00         0\n",
      "                 water       0.98      0.19      0.32      1240\n",
      "                  food       0.96      0.27      0.42      2167\n",
      "               shelter       0.95      0.18      0.31      1709\n",
      "              clothing       0.98      0.14      0.25       297\n",
      "                 money       0.96      0.05      0.10       457\n",
      "        missing_people       1.00      0.03      0.06       217\n",
      "              refugees       0.94      0.03      0.05       659\n",
      "                 death       0.98      0.14      0.24       894\n",
      "             other_aid       0.89      0.07      0.14      2586\n",
      "infrastructure_related       0.91      0.02      0.05      1283\n",
      "             transport       1.00      0.08      0.14       881\n",
      "             buildings       0.96      0.10      0.19       995\n",
      "           electricity       1.00      0.08      0.14       384\n",
      "                 tools       0.00      0.00      0.00       115\n",
      "             hospitals       0.00      0.00      0.00       221\n",
      "                 shops       0.00      0.00      0.00        91\n",
      "           aid_centers       1.00      0.00      0.01       233\n",
      "  other_infrastructure       0.86      0.02      0.04       864\n",
      "       weather_related       0.98      0.35      0.52      5413\n",
      "                floods       0.99      0.13      0.23      1626\n",
      "                 storm       0.97      0.21      0.35      1784\n",
      "                  fire       0.87      0.06      0.12       209\n",
      "            earthquake       0.96      0.42      0.58      1839\n",
      "                  cold       1.00      0.09      0.17       387\n",
      "         other_weather       0.94      0.05      0.09      1020\n",
      "         direct_report       0.96      0.27      0.42      3751\n",
      "\n",
      "             micro avg       0.88      0.41      0.56     62075\n",
      "             macro avg       0.83      0.14      0.21     62075\n",
      "          weighted avg       0.92      0.41      0.48     62075\n",
      "           samples avg       0.75      0.43      0.50     62075\n",
      "\n"
     ]
    }
   ],
   "source": [
    "# classification report on train set\n",
    "print(classification_report(y_train, y_knn_trainpred, target_names=y.columns.values))"
   ]
  },
  {
   "cell_type": "code",
   "execution_count": 50,
   "metadata": {},
   "outputs": [
    {
     "name": "stdout",
     "output_type": "stream",
     "text": [
      "related                   0.838309\n",
      "request                   0.892223\n",
      "offer                     0.995473\n",
      "aid_related               0.727430\n",
      "medical_help              0.924978\n",
      "medical_products          0.954936\n",
      "search_and_rescue         0.974620\n",
      "security                  0.981537\n",
      "military                  0.969330\n",
      "child_alone               1.000000\n",
      "water                     0.948629\n",
      "food                      0.918112\n",
      "shelter                   0.928284\n",
      "clothing                  0.986979\n",
      "money                     0.977977\n",
      "missing_people            0.989319\n",
      "refugees                  0.967296\n",
      "death                     0.960734\n",
      "other_aid                 0.876965\n",
      "infrastructure_related    0.936168\n",
      "transport                 0.958598\n",
      "buildings                 0.954377\n",
      "electricity               0.981995\n",
      "tools                     0.994151\n",
      "hospitals                 0.988759\n",
      "shops                     0.995372\n",
      "aid_centers               0.988200\n",
      "other_infrastructure      0.956818\n",
      "weather_related           0.818982\n",
      "floods                    0.927827\n",
      "storm                     0.927776\n",
      "fire                      0.989929\n",
      "earthquake                0.943747\n",
      "cold                      0.982097\n",
      "other_weather             0.950511\n",
      "direct_report             0.858756\n",
      "dtype: float64\n"
     ]
    }
   ],
   "source": [
    "# Model accuracy score on train dataset\n",
    "knn_train_accuracy = (y_knn_trainpred == y_train).mean()\n",
    "print(knn_train_accuracy)"
   ]
  },
  {
   "cell_type": "code",
   "execution_count": 51,
   "metadata": {},
   "outputs": [
    {
     "name": "stdout",
     "output_type": "stream",
     "text": [
      "                        precision    recall  f1-score   support\n",
      "\n",
      "               related       0.82      0.96      0.88      5091\n",
      "               request       0.77      0.30      0.43      1112\n",
      "                 offer       0.00      0.00      0.00        29\n",
      "           aid_related       0.76      0.25      0.37      2710\n",
      "          medical_help       0.47      0.03      0.05       490\n",
      "      medical_products       0.52      0.03      0.06       324\n",
      "     search_and_rescue       0.50      0.01      0.02       188\n",
      "              security       0.00      0.00      0.00       105\n",
      "              military       0.53      0.04      0.08       195\n",
      "           child_alone       0.00      0.00      0.00         0\n",
      "                 water       0.80      0.12      0.21       432\n",
      "                  food       0.74      0.19      0.30       756\n",
      "               shelter       0.70      0.08      0.15       605\n",
      "              clothing       0.64      0.06      0.12       108\n",
      "                 money       0.55      0.04      0.08       147\n",
      "        missing_people       0.50      0.01      0.02        81\n",
      "              refugees       1.00      0.01      0.02       216\n",
      "                 death       0.59      0.06      0.10       300\n",
      "             other_aid       0.46      0.03      0.06       860\n",
      "infrastructure_related       0.43      0.01      0.01       422\n",
      "             transport       0.71      0.03      0.06       320\n",
      "             buildings       0.80      0.06      0.11       338\n",
      "           electricity       0.80      0.03      0.05       148\n",
      "                 tools       0.00      0.00      0.00        44\n",
      "             hospitals       0.00      0.00      0.00        62\n",
      "                 shops       0.00      0.00      0.00        29\n",
      "           aid_centers       0.00      0.00      0.00        76\n",
      "  other_infrastructure       0.25      0.00      0.01       287\n",
      "       weather_related       0.81      0.26      0.39      1884\n",
      "                floods       0.74      0.07      0.12       529\n",
      "                 storm       0.72      0.11      0.19       659\n",
      "                  fire       0.33      0.04      0.07        73\n",
      "            earthquake       0.82      0.35      0.49       616\n",
      "                  cold       0.89      0.06      0.11       143\n",
      "         other_weather       0.61      0.03      0.06       356\n",
      "         direct_report       0.71      0.18      0.29      1324\n",
      "\n",
      "             micro avg       0.79      0.35      0.48     21059\n",
      "             macro avg       0.53      0.10      0.14     21059\n",
      "          weighted avg       0.71      0.35      0.39     21059\n",
      "           samples avg       0.72      0.39      0.44     21059\n",
      "\n",
      "                        precision    recall  f1-score   support\n",
      "\n",
      "               related       0.82      0.96      0.88      5091\n",
      "               request       0.77      0.30      0.43      1112\n",
      "                 offer       0.00      0.00      0.00        29\n",
      "           aid_related       0.76      0.25      0.37      2710\n",
      "          medical_help       0.47      0.03      0.05       490\n",
      "      medical_products       0.52      0.03      0.06       324\n",
      "     search_and_rescue       0.50      0.01      0.02       188\n",
      "              security       0.00      0.00      0.00       105\n",
      "              military       0.53      0.04      0.08       195\n",
      "           child_alone       0.00      0.00      0.00         0\n",
      "                 water       0.80      0.12      0.21       432\n",
      "                  food       0.74      0.19      0.30       756\n",
      "               shelter       0.70      0.08      0.15       605\n",
      "              clothing       0.64      0.06      0.12       108\n",
      "                 money       0.55      0.04      0.08       147\n",
      "        missing_people       0.50      0.01      0.02        81\n",
      "              refugees       1.00      0.01      0.02       216\n",
      "                 death       0.59      0.06      0.10       300\n",
      "             other_aid       0.46      0.03      0.06       860\n",
      "infrastructure_related       0.43      0.01      0.01       422\n",
      "             transport       0.71      0.03      0.06       320\n",
      "             buildings       0.80      0.06      0.11       338\n",
      "           electricity       0.80      0.03      0.05       148\n",
      "                 tools       0.00      0.00      0.00        44\n",
      "             hospitals       0.00      0.00      0.00        62\n",
      "                 shops       0.00      0.00      0.00        29\n",
      "           aid_centers       0.00      0.00      0.00        76\n",
      "  other_infrastructure       0.25      0.00      0.01       287\n",
      "       weather_related       0.81      0.26      0.39      1884\n",
      "                floods       0.74      0.07      0.12       529\n",
      "                 storm       0.72      0.11      0.19       659\n",
      "                  fire       0.33      0.04      0.07        73\n",
      "            earthquake       0.82      0.35      0.49       616\n",
      "                  cold       0.89      0.06      0.11       143\n",
      "         other_weather       0.61      0.03      0.06       356\n",
      "         direct_report       0.71      0.18      0.29      1324\n",
      "\n",
      "             micro avg       0.79      0.35      0.48     21059\n",
      "             macro avg       0.53      0.10      0.14     21059\n",
      "          weighted avg       0.71      0.35      0.39     21059\n",
      "           samples avg       0.72      0.39      0.44     21059\n",
      "\n"
     ]
    }
   ],
   "source": [
    "# classification report on test set\n",
    "print(classification_report(y_test, y_knn_testpred, target_names=y.columns.values))\n"
   ]
  },
  {
   "cell_type": "code",
   "execution_count": 53,
   "metadata": {},
   "outputs": [],
   "source": [
    "y_knn_testpred = knn_pipeline.predict(X_test)\n"
   ]
  },
  {
   "cell_type": "code",
   "execution_count": 54,
   "metadata": {},
   "outputs": [
    {
     "name": "stdout",
     "output_type": "stream",
     "text": [
      "                        precision    recall  f1-score   support\n",
      "\n",
      "               related       0.82      0.96      0.88      5091\n",
      "               request       0.77      0.30      0.43      1112\n",
      "                 offer       0.00      0.00      0.00        29\n",
      "           aid_related       0.76      0.25      0.37      2710\n",
      "          medical_help       0.47      0.03      0.05       490\n",
      "      medical_products       0.52      0.03      0.06       324\n",
      "     search_and_rescue       0.50      0.01      0.02       188\n",
      "              security       0.00      0.00      0.00       105\n",
      "              military       0.53      0.04      0.08       195\n",
      "           child_alone       0.00      0.00      0.00         0\n",
      "                 water       0.80      0.12      0.21       432\n",
      "                  food       0.74      0.19      0.30       756\n",
      "               shelter       0.70      0.08      0.15       605\n",
      "              clothing       0.64      0.06      0.12       108\n",
      "                 money       0.55      0.04      0.08       147\n",
      "        missing_people       0.50      0.01      0.02        81\n",
      "              refugees       1.00      0.01      0.02       216\n",
      "                 death       0.59      0.06      0.10       300\n",
      "             other_aid       0.46      0.03      0.06       860\n",
      "infrastructure_related       0.43      0.01      0.01       422\n",
      "             transport       0.71      0.03      0.06       320\n",
      "             buildings       0.80      0.06      0.11       338\n",
      "           electricity       0.80      0.03      0.05       148\n",
      "                 tools       0.00      0.00      0.00        44\n",
      "             hospitals       0.00      0.00      0.00        62\n",
      "                 shops       0.00      0.00      0.00        29\n",
      "           aid_centers       0.00      0.00      0.00        76\n",
      "  other_infrastructure       0.25      0.00      0.01       287\n",
      "       weather_related       0.81      0.26      0.39      1884\n",
      "                floods       0.74      0.07      0.12       529\n",
      "                 storm       0.72      0.11      0.19       659\n",
      "                  fire       0.33      0.04      0.07        73\n",
      "            earthquake       0.82      0.35      0.49       616\n",
      "                  cold       0.89      0.06      0.11       143\n",
      "         other_weather       0.61      0.03      0.06       356\n",
      "         direct_report       0.71      0.18      0.29      1324\n",
      "\n",
      "             micro avg       0.79      0.35      0.48     21059\n",
      "             macro avg       0.53      0.10      0.14     21059\n",
      "          weighted avg       0.71      0.35      0.39     21059\n",
      "           samples avg       0.72      0.39      0.44     21059\n",
      "\n"
     ]
    }
   ],
   "source": [
    "# classification report on train set\n",
    "print(classification_report(y_test, y_knn_testpred, target_names=y.columns.values))"
   ]
  },
  {
   "cell_type": "code",
   "execution_count": 56,
   "metadata": {},
   "outputs": [
    {
     "name": "stdout",
     "output_type": "stream",
     "text": [
      "related                   0.800427\n",
      "request                   0.866036\n",
      "offer                     0.995575\n",
      "aid_related               0.656851\n",
      "medical_help              0.924931\n",
      "medical_products          0.950717\n",
      "search_and_rescue         0.971315\n",
      "security                  0.983979\n",
      "military                  0.970400\n",
      "child_alone               1.000000\n",
      "water                     0.940189\n",
      "food                      0.898688\n",
      "shelter                   0.912115\n",
      "clothing                  0.983979\n",
      "money                     0.977724\n",
      "missing_people            0.987641\n",
      "refugees                  0.967348\n",
      "death                     0.954989\n",
      "other_aid                 0.868020\n",
      "infrastructure_related    0.935459\n",
      "transport                 0.952090\n",
      "buildings                 0.950717\n",
      "electricity               0.977876\n",
      "tools                     0.993287\n",
      "hospitals                 0.990540\n",
      "shops                     0.995575\n",
      "aid_centers               0.988404\n",
      "other_infrastructure      0.955905\n",
      "weather_related           0.770064\n",
      "floods                    0.922795\n",
      "storm                     0.906164\n",
      "fire                      0.988404\n",
      "earthquake                0.931645\n",
      "cold                      0.979249\n",
      "other_weather             0.946292\n",
      "direct_report             0.820262\n",
      "dtype: float64\n"
     ]
    }
   ],
   "source": [
    "# Model accuracy score on test dataset\n",
    "knn_test_accuracy = (y_knn_testpred == y_test).mean()\n",
    "print(knn_test_accuracy)"
   ]
  },
  {
   "cell_type": "markdown",
   "metadata": {},
   "source": [
    "#### grid test for knn"
   ]
  },
  {
   "cell_type": "code",
   "execution_count": 58,
   "metadata": {},
   "outputs": [],
   "source": [
    "\n",
    "# Grid test for knn\n",
    "knn_params = {'clf__estimator__n_neighbors': [15,20,29]}\n",
    "\n",
    "grid_knn = GridSearchCV(knn_pipeline, param_grid=knn_params, cv=3, verbose=3)"
   ]
  },
  {
   "cell_type": "code",
   "execution_count": null,
   "metadata": {},
   "outputs": [
    {
     "name": "stdout",
     "output_type": "stream",
     "text": [
      "Fitting 3 folds for each of 3 candidates, totalling 9 fits\n",
      "[CV 1/3] END .................clf__estimator__n_neighbors=15; total time= 5.0min\n",
      "[CV 2/3] END .................clf__estimator__n_neighbors=15; total time= 4.9min\n",
      "[CV 3/3] END .................clf__estimator__n_neighbors=15; total time= 4.9min\n",
      "[CV 1/3] END .................clf__estimator__n_neighbors=20; total time= 4.9min\n"
     ]
    }
   ],
   "source": [
    "grid_knn.fit(X_train,y_train)\n"
   ]
  },
  {
   "cell_type": "code",
   "execution_count": null,
   "metadata": {},
   "outputs": [],
   "source": [
    "grid_knn.best_params_\n"
   ]
  },
  {
   "cell_type": "code",
   "execution_count": null,
   "metadata": {},
   "outputs": [],
   "source": [
    "y_gridknn_testpred = grid_knn.predict(X_test)\n"
   ]
  },
  {
   "cell_type": "code",
   "execution_count": null,
   "metadata": {},
   "outputs": [],
   "source": [
    "# classification report on test set\n",
    "print('Grid KNN Test Scores')\n",
    "print(classification_report(y_test.values, y_gridknn_testpred, target_names=y.columns.values))\n",
    "print('\\n')\n",
    "\n",
    "# accuracy score on test set\n",
    "print('Grid KNN Accuracy')\n",
    "gridknn_test_accuracy = (y_gridknn_testpred == y_test).mean()\n",
    "print(gridknn_test_accuracy)"
   ]
  },
  {
   "cell_type": "markdown",
   "metadata": {},
   "source": [
    "##### compare the 2 models"
   ]
  },
  {
   "cell_type": "code",
   "execution_count": null,
   "metadata": {},
   "outputs": [],
   "source": [
    "\n",
    "# model names\n",
    "model_names = ['rfc','dtree','knn','grid rfc','grid dtree','grid knn']\n",
    "\n",
    "# concatenate accuracry scores\n",
    "accuracy_df = pd.concat([rfc_test_accuracy,knn_accuracy,\n",
    "                         gridrfc_test_accuracy,gridknn_test_accuracy],axis=1)\n",
    "accuracy_df.columns=model_names\n",
    "\n",
    "print('Models Accuracy Score Comparison')\n",
    "accuracy_df"
   ]
  },
  {
   "cell_type": "code",
   "execution_count": null,
   "metadata": {},
   "outputs": [],
   "source": [
    "to_graph = accuracy_df.to_dict()"
   ]
  },
  {
   "cell_type": "code",
   "execution_count": null,
   "metadata": {},
   "outputs": [],
   "source": [
    "fig, ax = plt.subplots(figsize=(10,6))\n",
    "ax.boxplot(accuracy_df.values)\n",
    "ax.set_xticklabels(['rfc','knn','grid rfc','grid knn'])\n",
    "\n",
    "plt.title('Models Accuracy Comparison')\n",
    "plt.ylabel('Accuracy rate')"
   ]
  },
  {
   "cell_type": "markdown",
   "metadata": {},
   "source": [
    "### 9. Export your model as a pickle file"
   ]
  },
  {
   "cell_type": "code",
   "execution_count": null,
   "metadata": {},
   "outputs": [],
   "source": [
    "file = open('classifier', 'wb')"
   ]
  },
  {
   "cell_type": "code",
   "execution_count": null,
   "metadata": {},
   "outputs": [],
   "source": [
    "\n",
    "import pickle\n",
    "pickle.dump(rfc_pipe,open('classifier.pickle','wb'))"
   ]
  },
  {
   "cell_type": "markdown",
   "metadata": {},
   "source": [
    "### 10. Use this notebook to complete `train.py`\n",
    "Use the template file attached in the Resources folder to write a script that runs the steps above to create a database and export a model based on a new dataset specified by the user."
   ]
  },
  {
   "cell_type": "code",
   "execution_count": null,
   "metadata": {},
   "outputs": [],
   "source": []
  },
  {
   "cell_type": "code",
   "execution_count": null,
   "metadata": {},
   "outputs": [],
   "source": []
  }
 ],
 "metadata": {
  "kernelspec": {
   "display_name": "Python 3",
   "language": "python",
   "name": "python3"
  },
  "language_info": {
   "codemirror_mode": {
    "name": "ipython",
    "version": 3
   },
   "file_extension": ".py",
   "mimetype": "text/x-python",
   "name": "python",
   "nbconvert_exporter": "python",
   "pygments_lexer": "ipython3",
   "version": "3.8.8"
  }
 },
 "nbformat": 4,
 "nbformat_minor": 2
}
